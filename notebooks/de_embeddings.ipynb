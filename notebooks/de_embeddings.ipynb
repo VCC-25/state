{
 "cells": [
  {
   "cell_type": "code",
   "execution_count": 7,
   "id": "2ee0bfa8",
   "metadata": {},
   "outputs": [],
   "source": [
    "import anndata as ad\n",
    "from pathlib import Path"
   ]
  },
  {
   "cell_type": "code",
   "execution_count": 8,
   "id": "fb56237f",
   "metadata": {},
   "outputs": [],
   "source": [
    "import numpy as np\n",
    "import pandas as pd\n",
    "from anndata import AnnData\n",
    "from pdex import parallel_differential_expression\n",
    "from tqdm import tqdm\n",
    "\n",
    "\n",
    "def compute_de_labels(adata: AnnData,\n",
    "                           perturb_col: str = \"target_gene\",\n",
    "                           cell_type_col: str = \"cell_type\",\n",
    "                           control_var: str = \"non-targeting\",\n",
    "                           alpha: float = 0.05) -> None:\n",
    "    \"\"\"\n",
    "    Precompute DE gene labels (+1, -1, 0) using pdex.\n",
    "    Stores results in adata.uns['de_labels'].\n",
    "\n",
    "    Parameters\n",
    "    ----------\n",
    "    adata : AnnData\n",
    "        Input AnnData object.\n",
    "    perturb_col : str\n",
    "        Column in obs indicating perturbation/target gene.\n",
    "    cell_type_col : str\n",
    "        Column in obs indicating cell type.\n",
    "    control_var : str\n",
    "        Name of the control group in perturb_col.\n",
    "    alpha : float\n",
    "        FDR threshold for significance.\n",
    "    \"\"\"\n",
    "\n",
    "    cell_types = adata.obs[cell_type_col].unique()\n",
    "    target_genes = adata.obs[perturb_col].unique()\n",
    "\n",
    "    result = {}\n",
    "\n",
    "    # iterate over cell types\n",
    "    for ct in tqdm(cell_types, desc=\"Computing DE labels with pdex\"):\n",
    "        # subset AnnData to current cell type\n",
    "        adata_ct = adata[adata.obs[cell_type_col] == ct].copy()\n",
    "        \n",
    "        # Run pdex differential expression\n",
    "        de_df = parallel_differential_expression(\n",
    "            adata_ct,\n",
    "            reference=control_var,\n",
    "            groupby_key=perturb_col,\n",
    "            metric=\"wilcoxon\",  # default\n",
    "            num_workers=20,\n",
    "            batch_size=100,\n",
    "        )\n",
    "\n",
    "        # if \"fdr\" < 0.05 and \"percent_change\" > 0 set to 1, if \"fdr\" < 0.05 and \"percent_change\" < 0 set to -1, else 0\n",
    "        de_df[\"de_embedding\"] = de_df.apply(\n",
    "            lambda row: 1 if row[\"fdr\"] < alpha and row[\"percent_change\"] > 0 else (-1 if row[\"fdr\"] < alpha and row[\"percent_change\"] < 0 else 0),\n",
    "            axis=1\n",
    "        )\n",
    "        \n",
    "        for target in target_genes:\n",
    "            # filter for current target gene\n",
    "            de_target = de_df[de_df[\"target\"] == target]\n",
    "            if not de_target.empty:\n",
    "                result[f\"{ct}_{target}\"] = de_target[\"de_embedding\"].values\n",
    "            else:\n",
    "                result[f\"{ct}_{target}\"] = 0\n",
    "\n",
    "    adata.uns['de_labels'] = result\n",
    "    print(f\"Stored DE results in adata.uns['de_labels'] with {len(adata.uns['de_labels'])} entries.\")\n",
    "    \n"
   ]
  },
  {
   "cell_type": "code",
   "execution_count": 9,
   "id": "425754dc",
   "metadata": {},
   "outputs": [],
   "source": [
    "import numpy as np\n",
    "import pandas as pd\n",
    "from anndata import AnnData\n",
    "from tqdm import tqdm\n",
    "\n",
    "def compute_expression_ranks(\n",
    "    adata: AnnData,\n",
    "    groupby_key: str = \"target_gene\",\n",
    "    celltype_key: str = \"cell_type\",\n",
    ") -> None:\n",
    "    \"\"\"\n",
    "    Precompute gene expression ranks for each (cell_type, target_gene).\n",
    "    Stores results in adata.uns['expr_ranks'].\n",
    "\n",
    "    Each entry is a vector of length n_vars where\n",
    "        rank[i] = rank of gene i's mean expression within that subset.\n",
    "    \"\"\"\n",
    "    results = {}\n",
    "\n",
    "    cell_types = adata.obs[celltype_key].unique()\n",
    "    target_genes = adata.obs[groupby_key].unique()\n",
    "\n",
    "    # single progress bar over all combinations\n",
    "    combos = [(ct, tg) for ct in cell_types for tg in target_genes]\n",
    "    for ct, tg in tqdm(combos, desc=\"Computing expression ranks\", total=len(combos)):\n",
    "        # subset to matching cells\n",
    "        mask = (adata.obs[celltype_key] == ct) & (adata.obs[groupby_key] == tg)\n",
    "        if mask.sum() == 0:\n",
    "            continue\n",
    "\n",
    "        subset = adata[mask]\n",
    "\n",
    "        # mean expression across cells for each gene\n",
    "        mean_expr = np.asarray(subset.X.mean(axis=0)).ravel()\n",
    "\n",
    "        # compute ranks (highest expression = rank 1)\n",
    "        ranks = pd.Series(mean_expr).rank(method=\"first\", ascending=False).to_numpy()\n",
    "\n",
    "        results[f\"{ct}_{tg}\"] = ranks\n",
    "\n",
    "    adata.uns[\"rank_embedding\"] = results\n",
    "    print(f\"Stored rank vectors in adata.uns['rank_embedding'] with {len(results)} entries.\")\n"
   ]
  },
  {
   "cell_type": "code",
   "execution_count": 10,
   "id": "e57d91ae",
   "metadata": {},
   "outputs": [],
   "source": [
    "data_dir = Path(\"/raid/kreid/v_cell/competition_support_set\")"
   ]
  },
  {
   "cell_type": "code",
   "execution_count": 11,
   "id": "cbc1cabb",
   "metadata": {},
   "outputs": [],
   "source": [
    "anndata_paths = [file for file in data_dir.glob(\"*.h5\")]"
   ]
  },
  {
   "cell_type": "code",
   "execution_count": 12,
   "id": "75e7f8f2",
   "metadata": {},
   "outputs": [
    {
     "name": "stdout",
     "output_type": "stream",
     "text": [
      "Processing hepg2.h5\n"
     ]
    },
    {
     "name": "stderr",
     "output_type": "stream",
     "text": [
      "Computing DE labels with pdex:   0%|          | 0/1 [00:00<?, ?it/s]INFO:pdex._single_cell:Precomputing masks for each target gene\n",
      "Identifying target masks: 100%|██████████| 69/69 [00:00<00:00, 50044.44it/s]\n",
      "INFO:pdex._single_cell:Precomputing variable indices for each feature\n",
      "Identifying variable indices: 100%|██████████| 18080/18080 [00:00<00:00, 8518649.33it/s]\n",
      "INFO:pdex._single_cell:Creating shared memory memory matrix for parallel computing\n",
      "INFO:pdex._single_cell:Creating generator of all combinations: N=1247520\n",
      "INFO:pdex._single_cell:Creating generator of all batches: N=12476\n",
      "INFO:pdex._single_cell:Initializing parallel processing pool\n",
      "INFO:pdex._single_cell:Processing batches\n",
      "Processing batches: 100%|██████████| 12476/12476 [00:39<00:00, 318.27it/s]\n",
      "INFO:pdex._single_cell:Flattening results\n",
      "INFO:pdex._single_cell:Closing shared memory pool\n",
      "Computing DE labels with pdex: 100%|██████████| 1/1 [00:44<00:00, 44.71s/it]\n"
     ]
    },
    {
     "name": "stdout",
     "output_type": "stream",
     "text": [
      "Stored DE results in adata.uns['de_labels'] with 69 entries.\n"
     ]
    },
    {
     "name": "stderr",
     "output_type": "stream",
     "text": [
      "Computing expression ranks: 100%|██████████| 69/69 [00:00<00:00, 377.24it/s]\n"
     ]
    },
    {
     "name": "stdout",
     "output_type": "stream",
     "text": [
      "Stored rank vectors in adata.uns['rank_embedding'] with 69 entries.\n",
      "Processing k562.h5\n"
     ]
    },
    {
     "name": "stderr",
     "output_type": "stream",
     "text": [
      "Computing DE labels with pdex:   0%|          | 0/1 [00:00<?, ?it/s]INFO:pdex._single_cell:Precomputing masks for each target gene\n",
      "Identifying target masks: 100%|██████████| 54/54 [00:00<00:00, 59028.52it/s]\n",
      "INFO:pdex._single_cell:Precomputing variable indices for each feature\n",
      "Identifying variable indices: 100%|██████████| 18080/18080 [00:00<00:00, 7914111.49it/s]\n",
      "INFO:pdex._single_cell:Creating shared memory memory matrix for parallel computing\n",
      "INFO:pdex._single_cell:Creating generator of all combinations: N=976320\n",
      "INFO:pdex._single_cell:Creating generator of all batches: N=9764\n",
      "INFO:pdex._single_cell:Initializing parallel processing pool\n",
      "INFO:pdex._single_cell:Processing batches\n",
      "Processing batches: 100%|██████████| 9764/9764 [00:53<00:00, 183.44it/s]\n",
      "INFO:pdex._single_cell:Flattening results\n",
      "INFO:pdex._single_cell:Closing shared memory pool\n",
      "Computing DE labels with pdex: 100%|██████████| 1/1 [00:57<00:00, 57.99s/it]\n"
     ]
    },
    {
     "name": "stdout",
     "output_type": "stream",
     "text": [
      "Stored DE results in adata.uns['de_labels'] with 54 entries.\n"
     ]
    },
    {
     "name": "stderr",
     "output_type": "stream",
     "text": [
      "Computing expression ranks: 100%|██████████| 54/54 [00:00<00:00, 237.65it/s]\n"
     ]
    },
    {
     "name": "stdout",
     "output_type": "stream",
     "text": [
      "Stored rank vectors in adata.uns['rank_embedding'] with 54 entries.\n",
      "Processing competition_train.h5\n"
     ]
    },
    {
     "name": "stderr",
     "output_type": "stream",
     "text": [
      "Computing DE labels with pdex:   0%|          | 0/1 [00:00<?, ?it/s]INFO:pdex._single_cell:Precomputing masks for each target gene\n",
      "Identifying target masks: 100%|██████████| 151/151 [00:00<00:00, 36957.45it/s]\n",
      "INFO:pdex._single_cell:Precomputing variable indices for each feature\n",
      "Identifying variable indices: 100%|██████████| 18080/18080 [00:00<00:00, 6746709.64it/s]\n",
      "INFO:pdex._single_cell:Creating shared memory memory matrix for parallel computing\n",
      "INFO:pdex._single_cell:Creating generator of all combinations: N=2730080\n",
      "INFO:pdex._single_cell:Creating generator of all batches: N=27301\n",
      "INFO:pdex._single_cell:Initializing parallel processing pool\n",
      "INFO:pdex._single_cell:Processing batches\n",
      "Processing batches: 100%|██████████| 27301/27301 [28:05<00:00, 16.20it/s]\n",
      "INFO:pdex._single_cell:Flattening results\n",
      "INFO:pdex._single_cell:Closing shared memory pool\n",
      "Computing DE labels with pdex: 100%|██████████| 1/1 [28:31<00:00, 1711.98s/it]\n"
     ]
    },
    {
     "name": "stdout",
     "output_type": "stream",
     "text": [
      "Stored DE results in adata.uns['de_labels'] with 151 entries.\n"
     ]
    },
    {
     "name": "stderr",
     "output_type": "stream",
     "text": [
      "Computing expression ranks: 100%|██████████| 151/151 [00:06<00:00, 25.14it/s]\n"
     ]
    },
    {
     "name": "stdout",
     "output_type": "stream",
     "text": [
      "Stored rank vectors in adata.uns['rank_embedding'] with 151 entries.\n",
      "Processing k562_gwps.h5\n"
     ]
    },
    {
     "name": "stderr",
     "output_type": "stream",
     "text": [
      "Computing DE labels with pdex:   0%|          | 0/1 [00:00<?, ?it/s]INFO:pdex._single_cell:Precomputing masks for each target gene\n",
      "Identifying target masks: 100%|██████████| 184/184 [00:00<00:00, 39028.62it/s]\n",
      "INFO:pdex._single_cell:Precomputing variable indices for each feature\n",
      "Identifying variable indices: 100%|██████████| 18080/18080 [00:00<00:00, 5793644.76it/s]\n",
      "INFO:pdex._single_cell:Creating shared memory memory matrix for parallel computing\n",
      "INFO:pdex._single_cell:Creating generator of all combinations: N=3326720\n",
      "INFO:pdex._single_cell:Creating generator of all batches: N=33268\n",
      "INFO:pdex._single_cell:Initializing parallel processing pool\n",
      "INFO:pdex._single_cell:Processing batches\n",
      "Processing batches: 100%|██████████| 33268/33268 [34:42<00:00, 15.97it/s]\n",
      "INFO:pdex._single_cell:Flattening results\n",
      "INFO:pdex._single_cell:Closing shared memory pool\n",
      "Computing DE labels with pdex: 100%|██████████| 1/1 [35:06<00:00, 2106.88s/it]\n"
     ]
    },
    {
     "name": "stdout",
     "output_type": "stream",
     "text": [
      "Stored DE results in adata.uns['de_labels'] with 184 entries.\n"
     ]
    },
    {
     "name": "stderr",
     "output_type": "stream",
     "text": [
      "Computing expression ranks: 100%|██████████| 184/184 [00:01<00:00, 151.55it/s]\n"
     ]
    },
    {
     "name": "stdout",
     "output_type": "stream",
     "text": [
      "Stored rank vectors in adata.uns['rank_embedding'] with 184 entries.\n",
      "Processing jurkat.h5\n"
     ]
    },
    {
     "name": "stderr",
     "output_type": "stream",
     "text": [
      "Computing DE labels with pdex:   0%|          | 0/1 [00:00<?, ?it/s]INFO:pdex._single_cell:Precomputing masks for each target gene\n",
      "Identifying target masks: 100%|██████████| 69/69 [00:00<00:00, 52173.60it/s]\n",
      "INFO:pdex._single_cell:Precomputing variable indices for each feature\n",
      "Identifying variable indices: 100%|██████████| 18080/18080 [00:00<00:00, 5110730.31it/s]\n",
      "INFO:pdex._single_cell:Creating shared memory memory matrix for parallel computing\n",
      "INFO:pdex._single_cell:Creating generator of all combinations: N=1247520\n",
      "INFO:pdex._single_cell:Creating generator of all batches: N=12476\n",
      "INFO:pdex._single_cell:Initializing parallel processing pool\n",
      "INFO:pdex._single_cell:Processing batches\n",
      "Processing batches: 100%|██████████| 12476/12476 [01:18<00:00, 158.66it/s]\n",
      "INFO:pdex._single_cell:Flattening results\n",
      "INFO:pdex._single_cell:Closing shared memory pool\n",
      "Computing DE labels with pdex: 100%|██████████| 1/1 [01:25<00:00, 85.09s/it]\n"
     ]
    },
    {
     "name": "stdout",
     "output_type": "stream",
     "text": [
      "Stored DE results in adata.uns['de_labels'] with 69 entries.\n"
     ]
    },
    {
     "name": "stderr",
     "output_type": "stream",
     "text": [
      "Computing expression ranks: 100%|██████████| 69/69 [00:00<00:00, 245.05it/s]\n"
     ]
    },
    {
     "name": "stdout",
     "output_type": "stream",
     "text": [
      "Stored rank vectors in adata.uns['rank_embedding'] with 69 entries.\n",
      "Processing rpe1.h5\n"
     ]
    },
    {
     "name": "stderr",
     "output_type": "stream",
     "text": [
      "Computing DE labels with pdex:   0%|          | 0/1 [00:00<?, ?it/s]INFO:pdex._single_cell:Precomputing masks for each target gene\n",
      "Identifying target masks: 100%|██████████| 69/69 [00:00<00:00, 44897.14it/s]\n",
      "INFO:pdex._single_cell:Precomputing variable indices for each feature\n",
      "Identifying variable indices: 100%|██████████| 18080/18080 [00:00<00:00, 4839993.38it/s]\n",
      "INFO:pdex._single_cell:Creating shared memory memory matrix for parallel computing\n",
      "INFO:pdex._single_cell:Creating generator of all combinations: N=1247520\n",
      "INFO:pdex._single_cell:Creating generator of all batches: N=12476\n",
      "INFO:pdex._single_cell:Initializing parallel processing pool\n",
      "INFO:pdex._single_cell:Processing batches\n",
      "Processing batches: 100%|██████████| 12476/12476 [01:18<00:00, 158.08it/s]\n",
      "INFO:pdex._single_cell:Flattening results\n",
      "INFO:pdex._single_cell:Closing shared memory pool\n",
      "Computing DE labels with pdex: 100%|██████████| 1/1 [01:25<00:00, 85.50s/it]\n"
     ]
    },
    {
     "name": "stdout",
     "output_type": "stream",
     "text": [
      "Stored DE results in adata.uns['de_labels'] with 69 entries.\n"
     ]
    },
    {
     "name": "stderr",
     "output_type": "stream",
     "text": [
      "Computing expression ranks: 100%|██████████| 69/69 [00:00<00:00, 236.53it/s]\n"
     ]
    },
    {
     "name": "stdout",
     "output_type": "stream",
     "text": [
      "Stored rank vectors in adata.uns['rank_embedding'] with 69 entries.\n"
     ]
    }
   ],
   "source": [
    "for path in anndata_paths:\n",
    "    print(f\"Processing {path.name}\")\n",
    "    adata = ad.read_h5ad(path)\n",
    "\n",
    "    # Compute DE labels\n",
    "    compute_de_labels(adata, perturb_col=\"target_gene\", cell_type_col=\"cell_type\", control_var=\"non-targeting\", alpha=0.05)\n",
    "\n",
    "    # Compute expression ranks\n",
    "    compute_expression_ranks(adata, groupby_key=\"target_gene\", celltype_key=\"cell_type\")\n",
    "\n",
    "    # Save updated AnnData\n",
    "    adata.write_h5ad(path)  # Overwrite original file or save to a new path if needed"
   ]
  },
  {
   "cell_type": "code",
   "execution_count": null,
   "id": "851f9a99",
   "metadata": {},
   "outputs": [],
   "source": []
  }
 ],
 "metadata": {
  "kernelspec": {
   "display_name": "arc-state",
   "language": "python",
   "name": "python3"
  },
  "language_info": {
   "codemirror_mode": {
    "name": "ipython",
    "version": 3
   },
   "file_extension": ".py",
   "mimetype": "text/x-python",
   "name": "python",
   "nbconvert_exporter": "python",
   "pygments_lexer": "ipython3",
   "version": "3.11.11"
  }
 },
 "nbformat": 4,
 "nbformat_minor": 5
}
