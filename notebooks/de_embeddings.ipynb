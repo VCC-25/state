{
 "cells": [
  {
   "cell_type": "code",
   "execution_count": 12,
   "id": "2ee0bfa8",
   "metadata": {},
   "outputs": [],
   "source": [
    "import anndata as ad\n",
    "from pathlib import Path\n",
    "import numpy as np"
   ]
  },
  {
   "cell_type": "code",
   "execution_count": 2,
   "id": "37331daf",
   "metadata": {},
   "outputs": [],
   "source": [
    "comp_set = ad.read_h5ad(\"/raid/kreid/v_cell/competition_support_set/competition_train.h5\")"
   ]
  },
  {
   "cell_type": "code",
   "execution_count": 3,
   "id": "59e0626e",
   "metadata": {},
   "outputs": [],
   "source": [
    "de_labels = comp_set.uns[\"de_labels\"]"
   ]
  },
  {
   "cell_type": "code",
   "execution_count": 13,
   "id": "0411b536",
   "metadata": {},
   "outputs": [
    {
     "name": "stdout",
     "output_type": "stream",
     "text": [
      "Key: ARC_H1_ACAT2, Value: 6215\n",
      "Key: ARC_H1_ACVR1B, Value: 2057\n",
      "Key: ARC_H1_AKT2, Value: 1328\n",
      "Key: ARC_H1_ANTXR1, Value: 215\n",
      "Key: ARC_H1_ARID1A, Value: 5276\n",
      "Key: ARC_H1_ATM, Value: 4669\n",
      "Key: ARC_H1_ATP1B1, Value: 174\n",
      "Key: ARC_H1_ATP6V0B, Value: 518\n",
      "Key: ARC_H1_ATP6V0C, Value: 573\n",
      "Key: ARC_H1_BIRC2, Value: 5611\n",
      "Key: ARC_H1_BRD9, Value: 1090\n",
      "Key: ARC_H1_C1QBP, Value: 5147\n",
      "Key: ARC_H1_CALM3, Value: 2309\n",
      "Key: ARC_H1_CAMSAP2, Value: 215\n",
      "Key: ARC_H1_CASP2, Value: 593\n",
      "Key: ARC_H1_CASP3, Value: 7316\n",
      "Key: ARC_H1_CAST, Value: 4434\n",
      "Key: ARC_H1_CDCA2, Value: 1566\n",
      "Key: ARC_H1_CENPO, Value: 2447\n",
      "Key: ARC_H1_CHMP3, Value: 3444\n",
      "Key: ARC_H1_CLDN6, Value: 580\n",
      "Key: ARC_H1_CLDN7, Value: 1270\n",
      "Key: ARC_H1_CREG1, Value: 286\n",
      "Key: ARC_H1_DAXX, Value: 2266\n",
      "Key: ARC_H1_DHCR24, Value: 1129\n",
      "Key: ARC_H1_DHX36, Value: 10060\n",
      "Key: ARC_H1_DLG5, Value: 2029\n",
      "Key: ARC_H1_DNAJA3, Value: 2582\n",
      "Key: ARC_H1_DNMT1, Value: 9439\n",
      "Key: ARC_H1_DZIP3, Value: 150\n",
      "Key: ARC_H1_EID2, Value: 342\n",
      "Key: ARC_H1_EIF4B, Value: 5807\n",
      "Key: ARC_H1_EPB41L2, Value: 4346\n",
      "Key: ARC_H1_EPHB4, Value: 3231\n",
      "Key: ARC_H1_ETV4, Value: 3575\n",
      "Key: ARC_H1_EWSR1, Value: 6404\n",
      "Key: ARC_H1_FDPS, Value: 3535\n",
      "Key: ARC_H1_FOXH1, Value: 2034\n",
      "Key: ARC_H1_GSK3B, Value: 3864\n",
      "Key: ARC_H1_HAT1, Value: 1726\n",
      "Key: ARC_H1_HIRA, Value: 3338\n",
      "Key: ARC_H1_HMGB2, Value: 5665\n",
      "Key: ARC_H1_HMGN1, Value: 344\n",
      "Key: ARC_H1_HSBP1, Value: 1849\n",
      "Key: ARC_H1_IDE, Value: 546\n",
      "Key: ARC_H1_IGF2R, Value: 906\n",
      "Key: ARC_H1_IKBKG, Value: 1036\n",
      "Key: ARC_H1_INSIG1, Value: 6862\n",
      "Key: ARC_H1_IRF3, Value: 263\n",
      "Key: ARC_H1_KAT2A, Value: 9890\n",
      "Key: ARC_H1_KDM1A, Value: 11133\n",
      "Key: ARC_H1_KDM2B, Value: 4281\n",
      "Key: ARC_H1_KDR, Value: 318\n",
      "Key: ARC_H1_KIF1B, Value: 359\n",
      "Key: ARC_H1_KIF20A, Value: 5319\n",
      "Key: ARC_H1_KLF10, Value: 5886\n",
      "Key: ARC_H1_LAD1, Value: 181\n",
      "Key: ARC_H1_LRPPRC, Value: 4996\n",
      "Key: ARC_H1_LZTR1, Value: 5440\n",
      "Key: ARC_H1_MAP1B, Value: 312\n",
      "Key: ARC_H1_MAP3K7, Value: 676\n",
      "Key: ARC_H1_MAPKAPK2, Value: 272\n",
      "Key: ARC_H1_MAST2, Value: 545\n",
      "Key: ARC_H1_MAU2, Value: 7949\n",
      "Key: ARC_H1_MBTPS1, Value: 5505\n",
      "Key: ARC_H1_MED1, Value: 4828\n",
      "Key: ARC_H1_MED12, Value: 5378\n",
      "Key: ARC_H1_MED13, Value: 5746\n",
      "Key: ARC_H1_MED13L, Value: 2532\n",
      "Key: ARC_H1_MED24, Value: 6638\n",
      "Key: ARC_H1_METTL14, Value: 10241\n",
      "Key: ARC_H1_METTL17, Value: 6499\n",
      "Key: ARC_H1_METTL3, Value: 10318\n",
      "Key: ARC_H1_MKI67, Value: 1220\n",
      "Key: ARC_H1_MTA1, Value: 2879\n",
      "Key: ARC_H1_NCK2, Value: 265\n",
      "Key: ARC_H1_NDUFB4, Value: 2758\n",
      "Key: ARC_H1_NDUFB6, Value: 2039\n",
      "Key: ARC_H1_NISCH, Value: 3448\n",
      "Key: ARC_H1_NIT1, Value: 9336\n",
      "Key: ARC_H1_NRAS, Value: 415\n",
      "Key: ARC_H1_NREP, Value: 5280\n",
      "Key: ARC_H1_OXA1L, Value: 2506\n",
      "Key: ARC_H1_OXCT1, Value: 3530\n",
      "Key: ARC_H1_PAGR1, Value: 2287\n",
      "Key: ARC_H1_PBX1, Value: 721\n",
      "Key: ARC_H1_PHF10, Value: 2668\n",
      "Key: ARC_H1_PHF14, Value: 2180\n",
      "Key: ARC_H1_PLCB3, Value: 2266\n",
      "Key: ARC_H1_PMEL, Value: 808\n",
      "Key: ARC_H1_PMS1, Value: 198\n",
      "Key: ARC_H1_POLB, Value: 2093\n",
      "Key: ARC_H1_PRCP, Value: 510\n",
      "Key: ARC_H1_PRDM14, Value: 10165\n",
      "Key: ARC_H1_PRR12, Value: 3036\n",
      "Key: ARC_H1_PTPN1, Value: 244\n",
      "Key: ARC_H1_RAB3B, Value: 172\n",
      "Key: ARC_H1_RAF1, Value: 1272\n",
      "Key: ARC_H1_RNF2, Value: 8550\n",
      "Key: ARC_H1_RNF20, Value: 4878\n",
      "Key: ARC_H1_RRM1, Value: 1904\n",
      "Key: ARC_H1_SAFB, Value: 4306\n",
      "Key: ARC_H1_SALL4, Value: 4497\n",
      "Key: ARC_H1_SDC1, Value: 1189\n",
      "Key: ARC_H1_SEC62, Value: 5178\n",
      "Key: ARC_H1_SHPRH, Value: 490\n",
      "Key: ARC_H1_SIN3B, Value: 8001\n",
      "Key: ARC_H1_SIX4, Value: 750\n",
      "Key: ARC_H1_SLC25A3, Value: 2234\n",
      "Key: ARC_H1_SLC39A6, Value: 6653\n",
      "Key: ARC_H1_SMAGP, Value: 2209\n",
      "Key: ARC_H1_SMARCA4, Value: 10621\n",
      "Key: ARC_H1_SMARCA5, Value: 9559\n",
      "Key: ARC_H1_SNCA, Value: 802\n",
      "Key: ARC_H1_SOX2, Value: 7951\n",
      "Key: ARC_H1_SRC, Value: 1034\n",
      "Key: ARC_H1_SSBP1, Value: 3418\n",
      "Key: ARC_H1_STAG2, Value: 7294\n",
      "Key: ARC_H1_STAT1, Value: 286\n",
      "Key: ARC_H1_STAT6, Value: 1993\n",
      "Key: ARC_H1_STX4, Value: 2160\n",
      "Key: ARC_H1_SUPT4H1, Value: 9438\n",
      "Key: ARC_H1_SV2A, Value: 596\n",
      "Key: ARC_H1_TADA1, Value: 9985\n",
      "Key: ARC_H1_TAF13, Value: 4982\n",
      "Key: ARC_H1_TARBP2, Value: 1498\n",
      "Key: ARC_H1_TAZ, Value: 736\n",
      "Key: ARC_H1_TCF3, Value: 978\n",
      "Key: ARC_H1_TET1, Value: 2697\n",
      "Key: ARC_H1_TFAM, Value: 5531\n",
      "Key: ARC_H1_TGFBR2, Value: 6996\n",
      "Key: ARC_H1_TMBIM6, Value: 636\n",
      "Key: ARC_H1_TMSB10, Value: 4479\n",
      "Key: ARC_H1_TMSB4X, Value: 1045\n",
      "Key: ARC_H1_TRAM2, Value: 760\n",
      "Key: ARC_H1_TRAPPC6A, Value: 2825\n",
      "Key: ARC_H1_TSC22D4, Value: 2969\n",
      "Key: ARC_H1_TWF2, Value: 235\n",
      "Key: ARC_H1_TXNDC9, Value: 2304\n",
      "Key: ARC_H1_UBE3C, Value: 5416\n",
      "Key: ARC_H1_UQCRQ, Value: 3149\n",
      "Key: ARC_H1_USP22, Value: 3499\n",
      "Key: ARC_H1_WFS1, Value: 242\n",
      "Key: ARC_H1_WSB2, Value: 3709\n",
      "Key: ARC_H1_XRCC4, Value: 3852\n",
      "Key: ARC_H1_ZNF286A, Value: 212\n",
      "Key: ARC_H1_ZNF426, Value: 228\n",
      "Key: ARC_H1_ZNF562, Value: 288\n",
      "Key: ARC_H1_ZNF593, Value: 2093\n",
      "Key: ARC_H1_ZNF714, Value: 227\n",
      "Key: ARC_H1_non-targeting, Value: 0\n"
     ]
    }
   ],
   "source": [
    "for key in de_labels.keys():\n",
    "    print(f\"Key: {key}, Value: {np.count_nonzero(de_labels[key])}\" if isinstance(de_labels[key], np.ndarray) else f\"Key: {key}, Value: {de_labels[key]}\")"
   ]
  },
  {
   "cell_type": "code",
   "execution_count": 2,
   "id": "fb56237f",
   "metadata": {},
   "outputs": [],
   "source": [
    "import numpy as np\n",
    "import pandas as pd\n",
    "from anndata import AnnData\n",
    "from pdex import parallel_differential_expression\n",
    "from tqdm import tqdm\n",
    "\n",
    "\n",
    "def compute_de_labels(adata: AnnData,\n",
    "                           perturb_col: str = \"target_gene\",\n",
    "                           cell_type_col: str = \"cell_type\",\n",
    "                           control_var: str = \"non-targeting\",\n",
    "                           alpha: float = 0.05) -> None:\n",
    "    \"\"\"\n",
    "    Precompute DE gene labels (+1, -1, 0) using pdex.\n",
    "    Stores results in adata.uns['de_labels'].\n",
    "\n",
    "    Parameters\n",
    "    ----------\n",
    "    adata : AnnData\n",
    "        Input AnnData object.\n",
    "    perturb_col : str\n",
    "        Column in obs indicating perturbation/target gene.\n",
    "    cell_type_col : str\n",
    "        Column in obs indicating cell type.\n",
    "    control_var : str\n",
    "        Name of the control group in perturb_col.\n",
    "    alpha : float\n",
    "        FDR threshold for significance.\n",
    "    \"\"\"\n",
    "\n",
    "    cell_types = adata.obs[cell_type_col].unique()\n",
    "    target_genes = adata.obs[perturb_col].unique()\n",
    "\n",
    "    result = {}\n",
    "\n",
    "    # iterate over cell types\n",
    "    for ct in tqdm(cell_types, desc=\"Computing DE labels with pdex\"):\n",
    "        # subset AnnData to current cell type\n",
    "        adata_ct = adata[adata.obs[cell_type_col] == ct].copy()\n",
    "        \n",
    "        # Run pdex differential expression\n",
    "        de_df = parallel_differential_expression(\n",
    "            adata_ct,\n",
    "            reference=control_var,\n",
    "            groupby_key=perturb_col,\n",
    "            metric=\"wilcoxon\",  # default\n",
    "            num_workers=20,\n",
    "            batch_size=100,\n",
    "        )\n",
    "\n",
    "        # if \"fdr\" < 0.05 and \"percent_change\" > 0 set to 1, if \"fdr\" < 0.05 and \"percent_change\" < 0 set to -1, else 0\n",
    "        de_df[\"de_embedding\"] = de_df.apply(\n",
    "            lambda row: 1 if row[\"fdr\"] < alpha and row[\"percent_change\"] > 0 else (-1 if row[\"fdr\"] < alpha and row[\"percent_change\"] < 0 else 0),\n",
    "            axis=1\n",
    "        )\n",
    "        \n",
    "        for target in target_genes:\n",
    "            # filter for current target gene\n",
    "            de_target = de_df[de_df[\"target\"] == target]\n",
    "            if not de_target.empty:\n",
    "                result[f\"{ct}_{target}\"] = de_target[\"de_embedding\"].values\n",
    "            else:\n",
    "                result[f\"{ct}_{target}\"] = 0\n",
    "\n",
    "    adata.uns['de_labels'] = result\n",
    "    print(f\"Stored DE results in adata.uns['de_labels'] with {len(adata.uns['de_labels'])} entries.\")\n",
    "    \n"
   ]
  },
  {
   "cell_type": "code",
   "execution_count": 3,
   "id": "425754dc",
   "metadata": {},
   "outputs": [],
   "source": [
    "import numpy as np\n",
    "import pandas as pd\n",
    "from anndata import AnnData\n",
    "from tqdm import tqdm\n",
    "\n",
    "def compute_expression_ranks(\n",
    "    adata: AnnData,\n",
    "    groupby_key: str = \"target_gene\",\n",
    "    celltype_key: str = \"cell_type\",\n",
    ") -> None:\n",
    "    \"\"\"\n",
    "    Precompute gene expression ranks for each (cell_type, target_gene).\n",
    "    Stores results in adata.uns['expr_ranks'].\n",
    "\n",
    "    Each entry is a vector of length n_vars where\n",
    "        rank[i] = rank of gene i's mean expression within that subset.\n",
    "    \"\"\"\n",
    "    results = {}\n",
    "\n",
    "    cell_types = adata.obs[celltype_key].unique()\n",
    "    target_genes = adata.obs[groupby_key].unique()\n",
    "\n",
    "    # single progress bar over all combinations\n",
    "    combos = [(ct, tg) for ct in cell_types for tg in target_genes]\n",
    "    for ct, tg in tqdm(combos, desc=\"Computing expression ranks\", total=len(combos)):\n",
    "        # subset to matching cells\n",
    "        mask = (adata.obs[celltype_key] == ct) & (adata.obs[groupby_key] == tg)\n",
    "        if mask.sum() == 0:\n",
    "            continue\n",
    "\n",
    "        subset = adata[mask]\n",
    "\n",
    "        # mean expression across cells for each gene\n",
    "        mean_expr = np.asarray(subset.X.mean(axis=0)).ravel()\n",
    "\n",
    "        # compute ranks (highest expression = rank 1)\n",
    "        ranks = pd.Series(mean_expr).rank(method=\"first\", ascending=False).to_numpy()\n",
    "\n",
    "        results[f\"{ct}_{tg}\"] = ranks\n",
    "\n",
    "    adata.uns[\"rank_embedding\"] = results\n",
    "    print(f\"Stored rank vectors in adata.uns['rank_embedding'] with {len(results)} entries.\")\n"
   ]
  },
  {
   "cell_type": "code",
   "execution_count": 10,
   "id": "e57d91ae",
   "metadata": {},
   "outputs": [],
   "source": [
    "data_dir = Path(\"/raid/kreid/v_cell/competition_support_set\")"
   ]
  },
  {
   "cell_type": "code",
   "execution_count": 11,
   "id": "cbc1cabb",
   "metadata": {},
   "outputs": [],
   "source": [
    "anndata_paths = [file for file in data_dir.glob(\"*.h5\")]"
   ]
  },
  {
   "cell_type": "code",
   "execution_count": 12,
   "id": "75e7f8f2",
   "metadata": {},
   "outputs": [
    {
     "name": "stdout",
     "output_type": "stream",
     "text": [
      "Processing hepg2.h5\n"
     ]
    },
    {
     "name": "stderr",
     "output_type": "stream",
     "text": [
      "Computing DE labels with pdex:   0%|          | 0/1 [00:00<?, ?it/s]INFO:pdex._single_cell:Precomputing masks for each target gene\n",
      "Identifying target masks: 100%|██████████| 69/69 [00:00<00:00, 50044.44it/s]\n",
      "INFO:pdex._single_cell:Precomputing variable indices for each feature\n",
      "Identifying variable indices: 100%|██████████| 18080/18080 [00:00<00:00, 8518649.33it/s]\n",
      "INFO:pdex._single_cell:Creating shared memory memory matrix for parallel computing\n",
      "INFO:pdex._single_cell:Creating generator of all combinations: N=1247520\n",
      "INFO:pdex._single_cell:Creating generator of all batches: N=12476\n",
      "INFO:pdex._single_cell:Initializing parallel processing pool\n",
      "INFO:pdex._single_cell:Processing batches\n",
      "Processing batches: 100%|██████████| 12476/12476 [00:39<00:00, 318.27it/s]\n",
      "INFO:pdex._single_cell:Flattening results\n",
      "INFO:pdex._single_cell:Closing shared memory pool\n",
      "Computing DE labels with pdex: 100%|██████████| 1/1 [00:44<00:00, 44.71s/it]\n"
     ]
    },
    {
     "name": "stdout",
     "output_type": "stream",
     "text": [
      "Stored DE results in adata.uns['de_labels'] with 69 entries.\n"
     ]
    },
    {
     "name": "stderr",
     "output_type": "stream",
     "text": [
      "Computing expression ranks: 100%|██████████| 69/69 [00:00<00:00, 377.24it/s]\n"
     ]
    },
    {
     "name": "stdout",
     "output_type": "stream",
     "text": [
      "Stored rank vectors in adata.uns['rank_embedding'] with 69 entries.\n",
      "Processing k562.h5\n"
     ]
    },
    {
     "name": "stderr",
     "output_type": "stream",
     "text": [
      "Computing DE labels with pdex:   0%|          | 0/1 [00:00<?, ?it/s]INFO:pdex._single_cell:Precomputing masks for each target gene\n",
      "Identifying target masks: 100%|██████████| 54/54 [00:00<00:00, 59028.52it/s]\n",
      "INFO:pdex._single_cell:Precomputing variable indices for each feature\n",
      "Identifying variable indices: 100%|██████████| 18080/18080 [00:00<00:00, 7914111.49it/s]\n",
      "INFO:pdex._single_cell:Creating shared memory memory matrix for parallel computing\n",
      "INFO:pdex._single_cell:Creating generator of all combinations: N=976320\n",
      "INFO:pdex._single_cell:Creating generator of all batches: N=9764\n",
      "INFO:pdex._single_cell:Initializing parallel processing pool\n",
      "INFO:pdex._single_cell:Processing batches\n",
      "Processing batches: 100%|██████████| 9764/9764 [00:53<00:00, 183.44it/s]\n",
      "INFO:pdex._single_cell:Flattening results\n",
      "INFO:pdex._single_cell:Closing shared memory pool\n",
      "Computing DE labels with pdex: 100%|██████████| 1/1 [00:57<00:00, 57.99s/it]\n"
     ]
    },
    {
     "name": "stdout",
     "output_type": "stream",
     "text": [
      "Stored DE results in adata.uns['de_labels'] with 54 entries.\n"
     ]
    },
    {
     "name": "stderr",
     "output_type": "stream",
     "text": [
      "Computing expression ranks: 100%|██████████| 54/54 [00:00<00:00, 237.65it/s]\n"
     ]
    },
    {
     "name": "stdout",
     "output_type": "stream",
     "text": [
      "Stored rank vectors in adata.uns['rank_embedding'] with 54 entries.\n",
      "Processing competition_train.h5\n"
     ]
    },
    {
     "name": "stderr",
     "output_type": "stream",
     "text": [
      "Computing DE labels with pdex:   0%|          | 0/1 [00:00<?, ?it/s]INFO:pdex._single_cell:Precomputing masks for each target gene\n",
      "Identifying target masks: 100%|██████████| 151/151 [00:00<00:00, 36957.45it/s]\n",
      "INFO:pdex._single_cell:Precomputing variable indices for each feature\n",
      "Identifying variable indices: 100%|██████████| 18080/18080 [00:00<00:00, 6746709.64it/s]\n",
      "INFO:pdex._single_cell:Creating shared memory memory matrix for parallel computing\n",
      "INFO:pdex._single_cell:Creating generator of all combinations: N=2730080\n",
      "INFO:pdex._single_cell:Creating generator of all batches: N=27301\n",
      "INFO:pdex._single_cell:Initializing parallel processing pool\n",
      "INFO:pdex._single_cell:Processing batches\n",
      "Processing batches: 100%|██████████| 27301/27301 [28:05<00:00, 16.20it/s]\n",
      "INFO:pdex._single_cell:Flattening results\n",
      "INFO:pdex._single_cell:Closing shared memory pool\n",
      "Computing DE labels with pdex: 100%|██████████| 1/1 [28:31<00:00, 1711.98s/it]\n"
     ]
    },
    {
     "name": "stdout",
     "output_type": "stream",
     "text": [
      "Stored DE results in adata.uns['de_labels'] with 151 entries.\n"
     ]
    },
    {
     "name": "stderr",
     "output_type": "stream",
     "text": [
      "Computing expression ranks: 100%|██████████| 151/151 [00:06<00:00, 25.14it/s]\n"
     ]
    },
    {
     "name": "stdout",
     "output_type": "stream",
     "text": [
      "Stored rank vectors in adata.uns['rank_embedding'] with 151 entries.\n",
      "Processing k562_gwps.h5\n"
     ]
    },
    {
     "name": "stderr",
     "output_type": "stream",
     "text": [
      "Computing DE labels with pdex:   0%|          | 0/1 [00:00<?, ?it/s]INFO:pdex._single_cell:Precomputing masks for each target gene\n",
      "Identifying target masks: 100%|██████████| 184/184 [00:00<00:00, 39028.62it/s]\n",
      "INFO:pdex._single_cell:Precomputing variable indices for each feature\n",
      "Identifying variable indices: 100%|██████████| 18080/18080 [00:00<00:00, 5793644.76it/s]\n",
      "INFO:pdex._single_cell:Creating shared memory memory matrix for parallel computing\n",
      "INFO:pdex._single_cell:Creating generator of all combinations: N=3326720\n",
      "INFO:pdex._single_cell:Creating generator of all batches: N=33268\n",
      "INFO:pdex._single_cell:Initializing parallel processing pool\n",
      "INFO:pdex._single_cell:Processing batches\n",
      "Processing batches: 100%|██████████| 33268/33268 [34:42<00:00, 15.97it/s]\n",
      "INFO:pdex._single_cell:Flattening results\n",
      "INFO:pdex._single_cell:Closing shared memory pool\n",
      "Computing DE labels with pdex: 100%|██████████| 1/1 [35:06<00:00, 2106.88s/it]\n"
     ]
    },
    {
     "name": "stdout",
     "output_type": "stream",
     "text": [
      "Stored DE results in adata.uns['de_labels'] with 184 entries.\n"
     ]
    },
    {
     "name": "stderr",
     "output_type": "stream",
     "text": [
      "Computing expression ranks: 100%|██████████| 184/184 [00:01<00:00, 151.55it/s]\n"
     ]
    },
    {
     "name": "stdout",
     "output_type": "stream",
     "text": [
      "Stored rank vectors in adata.uns['rank_embedding'] with 184 entries.\n",
      "Processing jurkat.h5\n"
     ]
    },
    {
     "name": "stderr",
     "output_type": "stream",
     "text": [
      "Computing DE labels with pdex:   0%|          | 0/1 [00:00<?, ?it/s]INFO:pdex._single_cell:Precomputing masks for each target gene\n",
      "Identifying target masks: 100%|██████████| 69/69 [00:00<00:00, 52173.60it/s]\n",
      "INFO:pdex._single_cell:Precomputing variable indices for each feature\n",
      "Identifying variable indices: 100%|██████████| 18080/18080 [00:00<00:00, 5110730.31it/s]\n",
      "INFO:pdex._single_cell:Creating shared memory memory matrix for parallel computing\n",
      "INFO:pdex._single_cell:Creating generator of all combinations: N=1247520\n",
      "INFO:pdex._single_cell:Creating generator of all batches: N=12476\n",
      "INFO:pdex._single_cell:Initializing parallel processing pool\n",
      "INFO:pdex._single_cell:Processing batches\n",
      "Processing batches: 100%|██████████| 12476/12476 [01:18<00:00, 158.66it/s]\n",
      "INFO:pdex._single_cell:Flattening results\n",
      "INFO:pdex._single_cell:Closing shared memory pool\n",
      "Computing DE labels with pdex: 100%|██████████| 1/1 [01:25<00:00, 85.09s/it]\n"
     ]
    },
    {
     "name": "stdout",
     "output_type": "stream",
     "text": [
      "Stored DE results in adata.uns['de_labels'] with 69 entries.\n"
     ]
    },
    {
     "name": "stderr",
     "output_type": "stream",
     "text": [
      "Computing expression ranks: 100%|██████████| 69/69 [00:00<00:00, 245.05it/s]\n"
     ]
    },
    {
     "name": "stdout",
     "output_type": "stream",
     "text": [
      "Stored rank vectors in adata.uns['rank_embedding'] with 69 entries.\n",
      "Processing rpe1.h5\n"
     ]
    },
    {
     "name": "stderr",
     "output_type": "stream",
     "text": [
      "Computing DE labels with pdex:   0%|          | 0/1 [00:00<?, ?it/s]INFO:pdex._single_cell:Precomputing masks for each target gene\n",
      "Identifying target masks: 100%|██████████| 69/69 [00:00<00:00, 44897.14it/s]\n",
      "INFO:pdex._single_cell:Precomputing variable indices for each feature\n",
      "Identifying variable indices: 100%|██████████| 18080/18080 [00:00<00:00, 4839993.38it/s]\n",
      "INFO:pdex._single_cell:Creating shared memory memory matrix for parallel computing\n",
      "INFO:pdex._single_cell:Creating generator of all combinations: N=1247520\n",
      "INFO:pdex._single_cell:Creating generator of all batches: N=12476\n",
      "INFO:pdex._single_cell:Initializing parallel processing pool\n",
      "INFO:pdex._single_cell:Processing batches\n",
      "Processing batches: 100%|██████████| 12476/12476 [01:18<00:00, 158.08it/s]\n",
      "INFO:pdex._single_cell:Flattening results\n",
      "INFO:pdex._single_cell:Closing shared memory pool\n",
      "Computing DE labels with pdex: 100%|██████████| 1/1 [01:25<00:00, 85.50s/it]\n"
     ]
    },
    {
     "name": "stdout",
     "output_type": "stream",
     "text": [
      "Stored DE results in adata.uns['de_labels'] with 69 entries.\n"
     ]
    },
    {
     "name": "stderr",
     "output_type": "stream",
     "text": [
      "Computing expression ranks: 100%|██████████| 69/69 [00:00<00:00, 236.53it/s]\n"
     ]
    },
    {
     "name": "stdout",
     "output_type": "stream",
     "text": [
      "Stored rank vectors in adata.uns['rank_embedding'] with 69 entries.\n"
     ]
    }
   ],
   "source": [
    "for path in anndata_paths:\n",
    "    print(f\"Processing {path.name}\")\n",
    "    adata = ad.read_h5ad(path)\n",
    "\n",
    "    # Compute DE labels\n",
    "    compute_de_labels(adata, perturb_col=\"target_gene\", cell_type_col=\"cell_type\", control_var=\"non-targeting\", alpha=0.05)\n",
    "\n",
    "    # Compute expression ranks\n",
    "    compute_expression_ranks(adata, groupby_key=\"target_gene\", celltype_key=\"cell_type\")\n",
    "\n",
    "    # Save updated AnnData\n",
    "    adata.write_h5ad(path)  # Overwrite original file or save to a new path if needed"
   ]
  },
  {
   "cell_type": "code",
   "execution_count": null,
   "id": "851f9a99",
   "metadata": {},
   "outputs": [],
   "source": []
  }
 ],
 "metadata": {
  "kernelspec": {
   "display_name": "arc-state",
   "language": "python",
   "name": "python3"
  },
  "language_info": {
   "codemirror_mode": {
    "name": "ipython",
    "version": 3
   },
   "file_extension": ".py",
   "mimetype": "text/x-python",
   "name": "python",
   "nbconvert_exporter": "python",
   "pygments_lexer": "ipython3",
   "version": "3.11.11"
  }
 },
 "nbformat": 4,
 "nbformat_minor": 5
}
